{
 "cells": [
  {
   "cell_type": "code",
   "execution_count": 1,
   "id": "4b3b1ae5",
   "metadata": {},
   "outputs": [],
   "source": [
    "import numpy as np\n",
    "import pandas as pd"
   ]
  },
  {
   "cell_type": "code",
   "execution_count": 2,
   "id": "e8da55ea",
   "metadata": {},
   "outputs": [],
   "source": [
    "df=pd.read_csv(r\"C:\\Users\\Madhavi\\Downloads\\stress.csv\")\n",
    "df.head()"
   ]
  },
  {
   "cell_type": "code",
   "execution_count": 3,
   "id": "4e39b3d0",
   "metadata": {},
   "outputs": [],
   "source": [
    "df.describe()"
   ]
  },
  {
   "cell_type": "code",
   "execution_count": 4,
   "id": "e6ccea61",
   "metadata": {},
   "outputs": [],
   "source": [
    "df.isnull().sum()"
   ]
  },
  {
   "cell_type": "code",
   "execution_count": null,
   "id": "fff4af4a",
   "metadata": {},
   "outputs": [],
   "source": [
    "import nltk\n",
    "import re\n",
    "from nltk. corpus import stopwords\n",
    "import string\n",
    "nltk. download( 'stopwords' )\n",
    "stemmer = nltk. SnowballStemmer(\"english\")\n",
    "stopword=set (stopwords . words ( 'english' ))"
   ]
  },
  {
   "cell_type": "code",
   "execution_count": null,
   "id": "d7d3ba24",
   "metadata": {},
   "outputs": [],
   "source": [
    "def clean(text):\n",
    "    text = str(text) . lower()"
   ]
  },
  {
   "cell_type": "code",
   "execution_count": null,
   "id": "1d2a2be8",
   "metadata": {},
   "outputs": [],
   "source": [
    "text = re. sub('\\[.*?\\]',' ',text)"
   ]
  },
  {
   "cell_type": "code",
   "execution_count": null,
   "id": "0f3b7ab2",
   "metadata": {},
   "outputs": [],
   "source": [
    "text = re. sub('https?://\\S+/www\\. \\S+', ' ', text)"
   ]
  },
  {
   "cell_type": "code",
   "execution_count": null,
   "id": "c5856ed8",
   "metadata": {},
   "outputs": [],
   "source": [
    "text = re. sub('<. *?>+', ' ', text)"
   ]
  },
  {
   "cell_type": "code",
   "execution_count": null,
   "id": "f4ab9f3b",
   "metadata": {},
   "outputs": [],
   "source": [
    "text = re. sub(' [%s]' % re. escape(string. punctuation), ' ', text)"
   ]
  },
  {
   "cell_type": "code",
   "execution_count": null,
   "id": "4d32f390",
   "metadata": {},
   "outputs": [],
   "source": [
    " text = re. sub(' \\n',' ', text)\n",
    " text = re. sub(' \\w*\\d\\w*' ,' ', text)"
   ]
  },
  {
   "cell_type": "code",
   "execution_count": null,
   "id": "cd59114c",
   "metadata": {},
   "outputs": [],
   "source": [
    " text = [word for word in text. split(' ') if word not in stopword]"
   ]
  },
  {
   "cell_type": "code",
   "execution_count": null,
   "id": "7d1df2c3",
   "metadata": {},
   "outputs": [],
   "source": [
    "text =\" \". join(text)\n",
    "    text = [stemmer . stem(word) for word in text. split(' ') "
   ]
  },
  {
   "cell_type": "code",
   "execution_count": null,
   "id": "6b65e3b4",
   "metadata": {},
   "outputs": [],
   "source": [
    " text = \" \". join(text)\n",
    " return text"
   ]
  },
  {
   "cell_type": "code",
   "execution_count": null,
   "id": "e6e56d5e",
   "metadata": {},
   "outputs": [],
   "source": [
    "df [ \"text\"] = df[\"text\"]. apply(clean)"
   ]
  },
  {
   "cell_type": "code",
   "execution_count": null,
   "id": "f9f693f7",
   "metadata": {},
   "outputs": [],
   "source": [
    "import matplotlib. pyplot as plt\n",
    "from wordcloud import WordCloud, STOPWORDS, ImageColorGenerator\n",
    "text = \" \". join(i for i in df. text)\n",
    "stopwords = set (STOPWORDS)\n",
    "wordcloud = WordCloud( stopwords=stopwords,background_color=\"white\") . generate(text)\n",
    "plt. figure(figsize=(10, 10) )\n",
    "plt. imshow(wordcloud )\n",
    "plt. axis(\"off\")\n",
    "plt. show( )"
   ]
  },
  {
   "cell_type": "code",
   "execution_count": null,
   "id": "81584277",
   "metadata": {},
   "outputs": [],
   "source": [
    "from sklearn. feature_extraction. text import CountVectorizer\n",
    "from sklearn. model_selection import train_test_split"
   ]
  },
  {
   "cell_type": "code",
   "execution_count": null,
   "id": "c72cab32",
   "metadata": {},
   "outputs": [],
   "source": [
    "x = np.array (df[\"text\"])\n",
    "y = np.array (df[\"label\"])\n"
   ]
  },
  {
   "cell_type": "code",
   "execution_count": null,
   "id": "5810b27a",
   "metadata": {},
   "outputs": [],
   "source": [
    "cv = CountVectorizer ()\n",
    "X = cv. fit_transform(x)\n",
    "print(X)\n",
    "xtrain, xtest, ytrain, ytest = train_test_split(X, y,test_size=0.33)\n",
    "\n"
   ]
  },
  {
   "cell_type": "code",
   "execution_count": null,
   "id": "f6b4f436",
   "metadata": {},
   "outputs": [],
   "source": [
    "from sklearn.naive_bayes import BernoulliNB\n",
    "model=BernoulliNB()\n",
    "model.fit(xtrain,ytrain)\n"
   ]
  },
  {
   "cell_type": "code",
   "execution_count": null,
   "id": "df6df492",
   "metadata": {},
   "outputs": [],
   "source": [
    "user=input(\"Enter the text\")\n",
    "data=cv.transform([user]).toarray()\n",
    "output=model.predict(data)\n",
    "print(output)"
   ]
  },
  {
   "cell_type": "code",
   "execution_count": null,
   "id": "84280c9d",
   "metadata": {},
   "outputs": [],
   "source": []
  }
 ],
 "metadata": {
  "kernelspec": {
   "display_name": "Python 3 (ipykernel)",
   "language": "python",
   "name": "python3"
  },
  "language_info": {
   "codemirror_mode": {
    "name": "ipython",
    "version": 3
   },
   "file_extension": ".py",
   "mimetype": "text/x-python",
   "name": "python",
   "nbconvert_exporter": "python",
   "pygments_lexer": "ipython3",
   "version": "3.9.5"
  }
 },
 "nbformat": 4,
 "nbformat_minor": 5
}
